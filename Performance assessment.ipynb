{
 "cells": [
  {
   "cell_type": "code",
   "execution_count": null,
   "metadata": {},
   "outputs": [],
   "source": [
    "gb_accuracy = accuracy_score(y_train, gb_y_pred)\n",
    "print(\"Accuracy:\", gb_accuracy)\n",
    "gb_precision = precision_score(y_train, gb_y_pred)\n",
    "print(\"Precision:\", gb_precision)\n",
    "gb_recall = recall_score(y_train, gb_y_pred)\n",
    "print(\"Recall:\", gb_recall)\n",
    "gb_f1_score = f1_score(y_train, gb_y_pred)\n",
    "print(\"F1-score:\", gb_f1_score)\n",
    "gb_classification_report = classification_report(y_train, gb_y_pred)\n",
    "print(\"Classification Report:\")\n",
    "print(gb_classification_report)\n"
   ]
  },
  {
   "cell_type": "code",
   "execution_count": null,
   "metadata": {},
   "outputs": [],
   "source": [
    "conf_matrix = confusion_matrix(y_train, gb_y_pred)\n",
    "\n",
    "plt.figure(figsize=(8, 6))\n",
    "sns.heatmap(conf_matrix, annot=True, fmt=\"d\", cmap=\"Blues\", cbar=False)\n",
    "plt.title(\"Confusion Matrix\")\n",
    "plt.xlabel(\"Predicted Label\")\n",
    "plt.ylabel(\"True Label\")\n",
    "plt.show()\n"
   ]
  },
  {
   "cell_type": "code",
   "execution_count": null,
   "metadata": {},
   "outputs": [],
   "source": [
    "from sklearn.metrics import precision_recall_curve\n",
    "\n",
    "precision, recall, _ = precision_recall_curve(y_train, gb_y_pred)\n",
    "\n",
    "plt.figure()\n",
    "plt.plot(recall, precision, color='blue', lw=2, label='Precision-Recall curve')\n",
    "plt.xlabel('Recall')\n",
    "plt.ylabel('Precision')\n",
    "plt.title('Precision-Recall Curve')\n",
    "plt.legend(loc=\"lower left\")\n",
    "plt.show()"
   ]
  }
 ],
 "metadata": {
  "language_info": {
   "name": "python"
  }
 },
 "nbformat": 4,
 "nbformat_minor": 2
}
