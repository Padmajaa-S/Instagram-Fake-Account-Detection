{
 "cells": [
  {
   "cell_type": "code",
   "execution_count": null,
   "metadata": {},
   "outputs": [],
   "source": [
    "#Visualizing the length of usernames(Histogram)\n",
    "plt.figure(figsize = (20, 10))\n",
    "sns.displot(instagram_df_train['nums/length username'],kde=True)"
   ]
  },
  {
   "cell_type": "code",
   "execution_count": null,
   "metadata": {},
   "outputs": [],
   "source": [
    "plt.figure(figsize=(15,15))\n",
    "cm = instagram_df_train.corr()\n",
    "ax = plt.subplot()\n",
    "sns.heatmap(cm, annot = True, ax = ax)"
   ]
  },
  {
   "cell_type": "code",
   "execution_count": null,
   "metadata": {},
   "outputs": [],
   "source": [
    "import matplotlib.pyplot as plt\n",
    "\n",
    "profile_pic_counts = instagram_df_test['profile pic'].value_counts()  # Count occurrences\n",
    "labels = ['No Profile Pic', 'Has Profile Pic']  \n",
    "counts = profile_pic_counts.tolist()\n",
    "\n",
    "# Create the bar chart\n",
    "plt.bar(labels, counts)\n",
    "plt.xlabel('Has Profile Pic')\n",
    "plt.ylabel('Count')\n",
    "plt.title('Distribution of Profile Pictures in Instagram Data')\n",
    "plt.xticks(rotation=0)  \n",
    "plt.show()"
   ]
  }
 ],
 "metadata": {
  "language_info": {
   "name": "python"
  }
 },
 "nbformat": 4,
 "nbformat_minor": 2
}
